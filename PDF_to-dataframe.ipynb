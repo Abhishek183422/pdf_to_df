{
 "cells": [
  {
   "cell_type": "code",
   "execution_count": 12,
   "id": "43c9dc70",
   "metadata": {},
   "outputs": [],
   "source": [
    "import cv2\n",
    "import easyocr\n",
    "import pandas as pd\n",
    "from PIL import Image, ImageDraw, ImageFont"
   ]
  },
  {
   "cell_type": "code",
   "execution_count": 2,
   "id": "9c6700cc",
   "metadata": {},
   "outputs": [],
   "source": [
    "img = cv2.imread(\"/home/dracula/Documents/pdf_to_data_frame_internship/Pinnacle_Assignment_Pdf_Folder_Pdf_1/33.jpg\")"
   ]
  },
  {
   "cell_type": "markdown",
   "id": "955591f0",
   "metadata": {},
   "source": [
    "As per the task,the challenge was to extract the data from the pdf and put it in the dataframe, while doing the task my approach was as follows, \n",
    "* conver the pdf into jpg img\n",
    "* Then get the biggest contour from the image and crop it and save it, this will be genrally ge the table which will have the biggest contour,\n",
    "* Then use tabula library to detect the dataframe from the image and convert it into a dataframe.\n",
    "\n",
    "but the challenge i faced is that tabula cant work in scanned image which later turned into a pdf, even i tried with camelot it didnt worked, \n",
    "here is the sample code,"
   ]
  },
  {
   "cell_type": "code",
   "execution_count": 3,
   "id": "2552a1f9",
   "metadata": {},
   "outputs": [
    {
     "name": "stderr",
     "output_type": "stream",
     "text": [
      "CUDA not available - defaulting to CPU. Note: This module is much faster with a GPU.\n"
     ]
    },
    {
     "name": "stdout",
     "output_type": "stream",
     "text": [
      "[([[10, 16], [62, 16], [62, 40], [10, 40]], 'Item', 0.999304473400116), ([[75, 13], [194, 13], [194, 45], [75, 45]], 'Description', 0.9997169947660091), ([[497, 9], [590, 9], [590, 40], [497, 40]], 'Quantity', 0.999982356947327), ([[714, 8], [816, 8], [816, 34], [714, 34]], 'Unit Price', 0.8741189794944534), ([[863, 9], [975, 9], [975, 29], [863, 29]], 'Total Price', 0.7860219404069949), ([[76, 42], [218, 42], [218, 66], [76, 66]], 'Product Code', 0.8025055489767547), ([[410, 42], [492, 42], [492, 66], [410, 66]], 'Ordered', 0.9986553459982818), ([[516, 42], [594, 42], [594, 68], [516, 68]], 'Shipped', 0.9999419211418838), ([[624, 40], [664, 40], [664, 64], [624, 64]], 'B/O', 0.49711920779781776), ([[742, 36], [784, 36], [784, 60], [742, 60]], 'RM', 0.9999148644275015), ([[898, 34], [940, 34], [940, 58], [898, 58]], 'RM', 0.9998490333265065), ([[76, 80], [214, 80], [214, 108], [76, 108]], 'Supplier Item:', 0.9957018890946929), ([[721, 71], [806, 71], [806, 99], [721, 99]], '4,219.50', 0.9866079935373278), ([[876, 70], [962, 70], [962, 98], [876, 98]], '4,219.50', 0.9596572927471003), ([[76, 104], [282, 104], [282, 132], [76, 132]], 'Ref#DF 0198/11/19Q', 0.6750083457205375), ([[76, 158], [278, 158], [278, 190], [76, 190]], '1.Pump Y-2951.0467', 0.9825723595098635), ([[78, 186], [222, 186], [222, 212], [78, 212]], '2.Water chiller', 0.9996984742478364), ([[253, 186], [316, 186], [316, 212], [253, 212]], 'motor', 0.9967782749051703), ([[78, 244], [158, 244], [158, 268], [78, 268]], '0% SST', 0.9980132103007758), ([[908, 236], [954, 236], [954, 260], [908, 260]], '0.00', 0.9822567105293274), ([[638, 274], [770, 274], [770, 300], [638, 300]], 'Grand Total:', 0.9997708212874298), ([[793, 275], [833, 275], [833, 295], [793, 295]], 'RM', 0.9999656926376816), ([[878, 272], [964, 272], [964, 298], [878, 298]], '4,219.50', 0.840610597865286), ([[220.84615384615384, 183.23076923076923], [257.698524475728, 188.68928811178927], [254.15384615384616, 212.76923076923077], [217.301475524272, 208.31071188821073]], 'fan', 0.9999247740907423)]\n"
     ]
    },
    {
     "data": {
      "text/plain": [
       "True"
      ]
     },
     "execution_count": 3,
     "metadata": {},
     "output_type": "execute_result"
    }
   ],
   "source": [
    "#this code will crop the biggest contour and then crop it,generally the tabuls\n",
    "image= cv2.imread('/home/dracula/Documents/pdf_to_data_frame_internship/Pinnacle_Assignment_Pdf_Folder_Pdf_3/omg.jpg')\n",
    "original_image= image\n",
    "\n",
    "gray= cv2.cvtColor(image, cv2.COLOR_BGR2GRAY)\n",
    "\n",
    "edges= cv2.Canny(gray, 50, 200)\n",
    "\n",
    "contours, hierarchy= cv2.findContours(edges.copy(), cv2.RETR_EXTERNAL, cv2.CHAIN_APPROX_NONE)\n",
    "\n",
    "def get_contour_areas(contours):\n",
    "    all_areas= []\n",
    "    for cnt in contours:\n",
    "        area= cv2.contourArea(cnt)\n",
    "        all_areas.append(area)\n",
    "    return all_areas\n",
    "\n",
    "sorted_contours= sorted(contours, key=cv2.contourArea, reverse=True)\n",
    "\n",
    "# Get the largest item\n",
    "largest_item= sorted_contours[0]\n",
    "\n",
    "# Find the largest contour and its bounding rectangle\n",
    "largest_contour = max(contours, key=cv2.contourArea)\n",
    "x, y, w, h = cv2.boundingRect(largest_contour)\n",
    "\n",
    "# Crop image to ROI and extract text using EasyOCR\n",
    "roi = image[y:y+h, x:x+w]\n",
    "reader = easyocr.Reader(['en'])\n",
    "result = reader.readtext(roi)\n",
    "\n",
    "# Print the extracted text\n",
    "print(result)\n",
    "\n",
    "# Save cropped image as JPEG\n",
    "cv2.imwrite('cropped.jpg', roi)"
   ]
  },
  {
   "cell_type": "markdown",
   "id": "d57d6c52",
   "metadata": {},
   "source": [
    "Different approach! \n",
    "\n",
    "\n",
    "Here i have used Easyocr for text detection, and getting the bounding box coordinate of the text detected, and then\n",
    "The first loop creates a list called table_data that will contain only the extracted text (not the bounding box coordinates). It iterates through each element in result (which contains both the text and coordinates) and appends the text to table_data. The resulting list of lists is then used to create a new DataFrame called df with a single column named \"Header\".\n",
    "\n",
    "The second loop iterates through each coordinate in text_coords (which contains the bounding box coordinates for each text element) and attempts to match each coordinate with a cell in the DataFrame df. It does this by iterating through each element in result and checking the bounding box coordinates against the current coordinate in text_coords.\n",
    "\n",
    "If the y-coordinate of the bounding box matches the current coordinate, the text is assigned to the cell in the second column of the DataFrame (df.iloc[i, 1]). If the x-coordinate matches the current coordinate, the text is assigned to the cell in the first column of the DataFrame (df.iloc[i, 0]). If the x-coordinate falls between the first and last coordinates of the current coordinate, the text is assigned to the appropriate column in the DataFrame (df.iloc[i, df.columns.get_loc('Column {}'.format(i+1))]). The resulting DataFrame should contain the extracted text in the correct order and position based on the layout of the image.\n"
   ]
  },
  {
   "cell_type": "code",
   "execution_count": 4,
   "id": "d92964b9",
   "metadata": {},
   "outputs": [
    {
     "name": "stderr",
     "output_type": "stream",
     "text": [
      "CUDA not available - defaulting to CPU. Note: This module is much faster with a GPU.\n"
     ]
    }
   ],
   "source": [
    "# Use EasyOCR to extract the text from the image and get the text coordinates\n",
    "reader = easyocr.Reader(['en'])\n",
    "result = reader.readtext('/home/dracula/Documents/pdf_to_data_frame_internship/cropped.jpg')"
   ]
  },
  {
   "cell_type": "code",
   "execution_count": 5,
   "id": "5a9acf3c",
   "metadata": {},
   "outputs": [],
   "source": [
    "text_coords = []\n",
    "for corr,text,pro in result:\n",
    "    text_coords.append(corr)"
   ]
  },
  {
   "cell_type": "code",
   "execution_count": 6,
   "id": "0adfbee0",
   "metadata": {},
   "outputs": [],
   "source": [
    "# Create a new image with the text positioned correctly, after detecting the largest contour\n",
    "# and then cropping the image.\n",
    "new_img = Image.fromarray(img)\n",
    "draw = ImageDraw.Draw(new_img)\n",
    "for coord in enumerate(text_coords):\n",
    "    coor_d=coord[1][0]\n",
    "    i=coord[0]\n",
    "    coo_x=int(coor_d[0])\n",
    "    coo_y=int(coor_d[1])\n",
    "    draw.text((coo_x,coo_y),result[i], fill=(0, 0, 0))\n",
    "# # # Save the new image\n",
    "new_img.save('new_table.jpg')"
   ]
  },
  {
   "cell_type": "code",
   "execution_count": 9,
   "id": "1abafa88",
   "metadata": {},
   "outputs": [],
   "source": [
    "# Create a pandas dataframe from the extracted data\n",
    "table_data = []\n",
    "for text in result:\n",
    "    table_data.append([text[1]])  # add only the text, not the bounding box coordinates\n",
    "df = pd.DataFrame(table_data, columns=['Header'])\n",
    "\n",
    "# Add columns to the dataframe based on the position of the text\n",
    "for i, coord in enumerate(text_coords):\n",
    "    if i > len(text_coords) - len(df):\n",
    "        break\n",
    "    df.insert(loc=i+1, column='Column {}'.format(i+1), value='')\n",
    "    for text in result:\n",
    "        text_box = text[0]\n",
    "        if text_box[1] == coord[1]:\n",
    "            df.iloc[i, 1] = text[1]\n",
    "        elif text_box[0] == coord[0]:\n",
    "            df.iloc[i, 0] = text[1]\n",
    "        elif coord[0] < text_box[0] < coord[2]:\n",
    "            df.iloc[i, df.columns.get_loc('Column {}'.format(i+1))] = text[1]"
   ]
  },
  {
   "cell_type": "markdown",
   "id": "4844ab66",
   "metadata": {},
   "source": [
    "later we can, manupulate this df, for further analysis."
   ]
  },
  {
   "cell_type": "code",
   "execution_count": 11,
   "id": "4b46b81e",
   "metadata": {},
   "outputs": [
    {
     "data": {
      "text/html": [
       "<div>\n",
       "<style scoped>\n",
       "    .dataframe tbody tr th:only-of-type {\n",
       "        vertical-align: middle;\n",
       "    }\n",
       "\n",
       "    .dataframe tbody tr th {\n",
       "        vertical-align: top;\n",
       "    }\n",
       "\n",
       "    .dataframe thead th {\n",
       "        text-align: right;\n",
       "    }\n",
       "</style>\n",
       "<table border=\"1\" class=\"dataframe\">\n",
       "  <thead>\n",
       "    <tr style=\"text-align: right;\">\n",
       "      <th></th>\n",
       "      <th>Header</th>\n",
       "      <th>Column 1</th>\n",
       "    </tr>\n",
       "  </thead>\n",
       "  <tbody>\n",
       "    <tr>\n",
       "      <th>0</th>\n",
       "      <td>Description</td>\n",
       "      <td>0% SST</td>\n",
       "    </tr>\n",
       "    <tr>\n",
       "      <th>1</th>\n",
       "      <td>Quantity</td>\n",
       "      <td></td>\n",
       "    </tr>\n",
       "    <tr>\n",
       "      <th>2</th>\n",
       "      <td>Unit Price</td>\n",
       "      <td></td>\n",
       "    </tr>\n",
       "    <tr>\n",
       "      <th>3</th>\n",
       "      <td>Total Price</td>\n",
       "      <td></td>\n",
       "    </tr>\n",
       "    <tr>\n",
       "      <th>4</th>\n",
       "      <td>Product Code</td>\n",
       "      <td></td>\n",
       "    </tr>\n",
       "    <tr>\n",
       "      <th>5</th>\n",
       "      <td>Ordered</td>\n",
       "      <td></td>\n",
       "    </tr>\n",
       "    <tr>\n",
       "      <th>6</th>\n",
       "      <td>Shipped</td>\n",
       "      <td></td>\n",
       "    </tr>\n",
       "    <tr>\n",
       "      <th>7</th>\n",
       "      <td>B/O</td>\n",
       "      <td></td>\n",
       "    </tr>\n",
       "    <tr>\n",
       "      <th>8</th>\n",
       "      <td>RM</td>\n",
       "      <td></td>\n",
       "    </tr>\n",
       "    <tr>\n",
       "      <th>9</th>\n",
       "      <td>RM</td>\n",
       "      <td></td>\n",
       "    </tr>\n",
       "    <tr>\n",
       "      <th>10</th>\n",
       "      <td>Supplier Item:</td>\n",
       "      <td></td>\n",
       "    </tr>\n",
       "    <tr>\n",
       "      <th>11</th>\n",
       "      <td>4,219.50</td>\n",
       "      <td></td>\n",
       "    </tr>\n",
       "    <tr>\n",
       "      <th>12</th>\n",
       "      <td>4,219.50</td>\n",
       "      <td></td>\n",
       "    </tr>\n",
       "    <tr>\n",
       "      <th>13</th>\n",
       "      <td>Ref#DF 0198/11/19Q</td>\n",
       "      <td></td>\n",
       "    </tr>\n",
       "    <tr>\n",
       "      <th>14</th>\n",
       "      <td>1.Pump Y-2951.0467</td>\n",
       "      <td></td>\n",
       "    </tr>\n",
       "    <tr>\n",
       "      <th>15</th>\n",
       "      <td>2.Water chiller</td>\n",
       "      <td></td>\n",
       "    </tr>\n",
       "    <tr>\n",
       "      <th>16</th>\n",
       "      <td>motor</td>\n",
       "      <td></td>\n",
       "    </tr>\n",
       "    <tr>\n",
       "      <th>17</th>\n",
       "      <td>0% SST</td>\n",
       "      <td></td>\n",
       "    </tr>\n",
       "    <tr>\n",
       "      <th>18</th>\n",
       "      <td>0.00</td>\n",
       "      <td></td>\n",
       "    </tr>\n",
       "    <tr>\n",
       "      <th>19</th>\n",
       "      <td>Grand Total:</td>\n",
       "      <td></td>\n",
       "    </tr>\n",
       "    <tr>\n",
       "      <th>20</th>\n",
       "      <td>RM</td>\n",
       "      <td></td>\n",
       "    </tr>\n",
       "    <tr>\n",
       "      <th>21</th>\n",
       "      <td>4,219.50</td>\n",
       "      <td></td>\n",
       "    </tr>\n",
       "    <tr>\n",
       "      <th>22</th>\n",
       "      <td>Item</td>\n",
       "      <td></td>\n",
       "    </tr>\n",
       "    <tr>\n",
       "      <th>23</th>\n",
       "      <td>fan</td>\n",
       "      <td></td>\n",
       "    </tr>\n",
       "  </tbody>\n",
       "</table>\n",
       "</div>"
      ],
      "text/plain": [
       "                Header Column 1\n",
       "0          Description   0% SST\n",
       "1             Quantity         \n",
       "2           Unit Price         \n",
       "3          Total Price         \n",
       "4         Product Code         \n",
       "5              Ordered         \n",
       "6              Shipped         \n",
       "7                  B/O         \n",
       "8                   RM         \n",
       "9                   RM         \n",
       "10      Supplier Item:         \n",
       "11            4,219.50         \n",
       "12            4,219.50         \n",
       "13  Ref#DF 0198/11/19Q         \n",
       "14  1.Pump Y-2951.0467         \n",
       "15     2.Water chiller         \n",
       "16               motor         \n",
       "17              0% SST         \n",
       "18                0.00         \n",
       "19        Grand Total:         \n",
       "20                  RM         \n",
       "21            4,219.50         \n",
       "22                Item         \n",
       "23                 fan         "
      ]
     },
     "execution_count": 11,
     "metadata": {},
     "output_type": "execute_result"
    }
   ],
   "source": [
    "df"
   ]
  },
  {
   "cell_type": "code",
   "execution_count": null,
   "id": "dd5c4727",
   "metadata": {},
   "outputs": [],
   "source": []
  }
 ],
 "metadata": {
  "kernelspec": {
   "display_name": "Python 3 (ipykernel)",
   "language": "python",
   "name": "python3"
  },
  "language_info": {
   "codemirror_mode": {
    "name": "ipython",
    "version": 3
   },
   "file_extension": ".py",
   "mimetype": "text/x-python",
   "name": "python",
   "nbconvert_exporter": "python",
   "pygments_lexer": "ipython3",
   "version": "3.9.0"
  }
 },
 "nbformat": 4,
 "nbformat_minor": 5
}
